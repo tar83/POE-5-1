{
  "nbformat": 4,
  "nbformat_minor": 0,
  "metadata": {
    "colab": {
      "name": "IMC.ipynb",
      "provenance": [],
      "authorship_tag": "ABX9TyNrXsscXlxTPdviqKb3FmHK",
      "include_colab_link": true
    },
    "kernelspec": {
      "name": "python3",
      "display_name": "Python 3"
    },
    "language_info": {
      "name": "python"
    }
  },
  "cells": [
    {
      "cell_type": "markdown",
      "metadata": {
        "id": "view-in-github",
        "colab_type": "text"
      },
      "source": [
        "<a href=\"https://colab.research.google.com/github/tar83/POE-5-1/blob/main/IMC.ipynb\" target=\"_parent\"><img src=\"https://colab.research.google.com/assets/colab-badge.svg\" alt=\"Open In Colab\"/></a>"
      ]
    },
    {
      "cell_type": "code",
      "execution_count": 1,
      "metadata": {
        "colab": {
          "base_uri": "https://localhost:8080/"
        },
        "id": "JGd4JWz62gvR",
        "outputId": "c2b5c44c-9461-4e58-c69a-8fc8d34b5e0a"
      },
      "outputs": [
        {
          "output_type": "stream",
          "name": "stdout",
          "text": [
            "26.122448979591837\n"
          ]
        }
      ],
      "source": [
        "#@title Cálculo del Índice de Masa Corporal { run: \"auto\", vertical-output: true }\n",
        "Estatura = 1.75 #@param {type:\"number\"}\n",
        "Peso = 80 #@param {type:\"number\"}\n",
        "print(Peso / (Estatura * Estatura))\n"
      ]
    }
  ]
}